{
  "nbformat": 4,
  "nbformat_minor": 0,
  "metadata": {
    "colab": {
      "name": "Copy of MLBootcamp21_Assignment_Week2.ipynb",
      "provenance": [],
      "collapsed_sections": [],
      "include_colab_link": true
    },
    "kernelspec": {
      "display_name": "Python 3",
      "language": "python",
      "name": "python3"
    },
    "language_info": {
      "codemirror_mode": {
        "name": "ipython",
        "version": 3
      },
      "file_extension": ".py",
      "mimetype": "text/x-python",
      "name": "python",
      "nbconvert_exporter": "python",
      "pygments_lexer": "ipython3",
      "version": "3.7.4"
    }
  },
  "cells": [
    {
      "cell_type": "markdown",
      "metadata": {
        "id": "view-in-github",
        "colab_type": "text"
      },
      "source": [
        "<a href=\"https://colab.research.google.com/github/annlj/MLBootcamp21_Assignment/blob/main/MLBootcamp21_Week2.ipynb\" target=\"_parent\"><img src=\"https://colab.research.google.com/assets/colab-badge.svg\" alt=\"Open In Colab\"/></a>"
      ]
    },
    {
      "cell_type": "markdown",
      "metadata": {
        "id": "8l_X4y9_xF1k"
      },
      "source": [
        "ML Bootcamp 2021 - Week 2: Assignment\n",
        "\n",
        "- In this week you will learn more about the Pandas library and implement Logistic Regression\n",
        "- The comments will have most of the instructiions\n",
        "- Attempt the questions using only python/pandas as much as possible as it is a very in-demand skill right now and learning it will be beneficial\n",
        "- Use the Titanic Training dataset for all questions unless specified to use Test dataset"
      ]
    },
    {
      "cell_type": "code",
      "metadata": {
        "id": "0DPAiRhTlID6"
      },
      "source": [
        "#Import the necessary libraries here\n",
        "import pandas as pd\n",
        "import numpy as np\n",
        "import math\n",
        "from sklearn.linear_model import LinearRegression, LogisticRegression # The Machine Learnig Algorithms\n",
        "from sklearn.metrics import classification_report, mean_squared_error\n",
        "from sklearn.model_selection import train_test_split\n",
        "from sklearn.preprocessing import StandardScaler # This can be used to scale your data\n",
        "import matplotlib.pyplot as plt\n",
        "import seaborn as sb"
      ],
      "execution_count": null,
      "outputs": []
    },
    {
      "cell_type": "markdown",
      "metadata": {
        "id": "2KyORngMzaL1"
      },
      "source": [
        "## Q1. What is the most frequently occuring age for male and female? If more than one particular age occurs equal number of times, report the higher of the two"
      ]
    },
    {
      "cell_type": "code",
      "metadata": {
        "id": "uez0srlPnxj8"
      },
      "source": [
        "# Write your code below the comments in this cell\n",
        "# Important\n",
        "# Save your female age value in a variable called 'age_female'\n",
        "# Save your male age value in a variable called 'age_male'\n",
        "\n",
        "####Code Comes Here###\n",
        "df = pd.read_csv(\"sample_data/train.csv\")\n",
        "\n",
        "grouped_f_age = df.groupby('Sex')['Age'].value_counts().female\n",
        "grouped_m_age = df.groupby('Sex')['Age'].value_counts().male\n",
        "grouped_f_age\n",
        "grouped_m_age\n",
        "\n",
        "###Code Comes Here###\n",
        "\n",
        "###Answers come here###\n",
        "\n",
        "age_female = 24.0\n",
        "age_male = 28.0\n",
        "\n",
        "###Answers come here###"
      ],
      "execution_count": null,
      "outputs": []
    },
    {
      "cell_type": "markdown",
      "metadata": {
        "id": "UMTcBlpL0aL3"
      },
      "source": [
        "## Q2. Convert the 'Sex' feature of the Train dataset into categorical feature. This question would require you to first read about categorical features and how they look before proceeding.\n",
        "\n",
        "- Read about categorical data first: https://www.kdnuggets.com/2021/05/deal-with-categorical-data-machine-learning.html\n",
        "- Create a new column called \"Sex_Category\"\n",
        "- Use the lambda and apply function to perform this task"
      ]
    },
    {
      "cell_type": "code",
      "metadata": {
        "id": "EzArtUHCz9i0",
        "colab": {
          "base_uri": "https://localhost:8080/",
          "height": 946
        },
        "outputId": "124d4d1a-4d12-45f3-d1f9-37be3081c0e6"
      },
      "source": [
        "# Write your code below the comments in this cell\n",
        "# Important\n",
        "# Finally your dataframe should have an additional column called \"Sex_Category\"\n",
        "# This \"Sex_Category\" column should have the entry as 1 wherever the column \"Sex\" shows \"female\" and 0 wherever it shows \"male\"\n",
        "# Do not remove the existing \"Sex\" column, instead create a new column based on this existing column\n",
        "# I have already provided the code to create a new column for your dataframe called \"df\"\n",
        "# Refer to the previous notebooks for reference\n",
        "\n",
        "####Code Comes Here###\n",
        "df['Sex_Category'] = df['Sex'].apply(lambda x: 0 if x == \"male\" else 1)\n",
        "df\n",
        "###Code Comes Here###"
      ],
      "execution_count": null,
      "outputs": [
        {
          "output_type": "execute_result",
          "data": {
            "text/html": [
              "<div>\n",
              "<style scoped>\n",
              "    .dataframe tbody tr th:only-of-type {\n",
              "        vertical-align: middle;\n",
              "    }\n",
              "\n",
              "    .dataframe tbody tr th {\n",
              "        vertical-align: top;\n",
              "    }\n",
              "\n",
              "    .dataframe thead th {\n",
              "        text-align: right;\n",
              "    }\n",
              "</style>\n",
              "<table border=\"1\" class=\"dataframe\">\n",
              "  <thead>\n",
              "    <tr style=\"text-align: right;\">\n",
              "      <th></th>\n",
              "      <th>PassengerId</th>\n",
              "      <th>Survived</th>\n",
              "      <th>Pclass</th>\n",
              "      <th>Name</th>\n",
              "      <th>Sex</th>\n",
              "      <th>Age</th>\n",
              "      <th>SibSp</th>\n",
              "      <th>Parch</th>\n",
              "      <th>Ticket</th>\n",
              "      <th>Fare</th>\n",
              "      <th>Cabin</th>\n",
              "      <th>Embarked</th>\n",
              "      <th>Sex_Category</th>\n",
              "    </tr>\n",
              "  </thead>\n",
              "  <tbody>\n",
              "    <tr>\n",
              "      <th>0</th>\n",
              "      <td>1</td>\n",
              "      <td>0</td>\n",
              "      <td>3</td>\n",
              "      <td>Braund, Mr. Owen Harris</td>\n",
              "      <td>male</td>\n",
              "      <td>22.0</td>\n",
              "      <td>1</td>\n",
              "      <td>0</td>\n",
              "      <td>A/5 21171</td>\n",
              "      <td>7.2500</td>\n",
              "      <td>NaN</td>\n",
              "      <td>S</td>\n",
              "      <td>0</td>\n",
              "    </tr>\n",
              "    <tr>\n",
              "      <th>1</th>\n",
              "      <td>2</td>\n",
              "      <td>1</td>\n",
              "      <td>1</td>\n",
              "      <td>Cumings, Mrs. John Bradley (Florence Briggs Th...</td>\n",
              "      <td>female</td>\n",
              "      <td>38.0</td>\n",
              "      <td>1</td>\n",
              "      <td>0</td>\n",
              "      <td>PC 17599</td>\n",
              "      <td>71.2833</td>\n",
              "      <td>C85</td>\n",
              "      <td>C</td>\n",
              "      <td>1</td>\n",
              "    </tr>\n",
              "    <tr>\n",
              "      <th>2</th>\n",
              "      <td>3</td>\n",
              "      <td>1</td>\n",
              "      <td>3</td>\n",
              "      <td>Heikkinen, Miss. Laina</td>\n",
              "      <td>female</td>\n",
              "      <td>26.0</td>\n",
              "      <td>0</td>\n",
              "      <td>0</td>\n",
              "      <td>STON/O2. 3101282</td>\n",
              "      <td>7.9250</td>\n",
              "      <td>NaN</td>\n",
              "      <td>S</td>\n",
              "      <td>1</td>\n",
              "    </tr>\n",
              "    <tr>\n",
              "      <th>3</th>\n",
              "      <td>4</td>\n",
              "      <td>1</td>\n",
              "      <td>1</td>\n",
              "      <td>Futrelle, Mrs. Jacques Heath (Lily May Peel)</td>\n",
              "      <td>female</td>\n",
              "      <td>35.0</td>\n",
              "      <td>1</td>\n",
              "      <td>0</td>\n",
              "      <td>113803</td>\n",
              "      <td>53.1000</td>\n",
              "      <td>C123</td>\n",
              "      <td>S</td>\n",
              "      <td>1</td>\n",
              "    </tr>\n",
              "    <tr>\n",
              "      <th>4</th>\n",
              "      <td>5</td>\n",
              "      <td>0</td>\n",
              "      <td>3</td>\n",
              "      <td>Allen, Mr. William Henry</td>\n",
              "      <td>male</td>\n",
              "      <td>35.0</td>\n",
              "      <td>0</td>\n",
              "      <td>0</td>\n",
              "      <td>373450</td>\n",
              "      <td>8.0500</td>\n",
              "      <td>NaN</td>\n",
              "      <td>S</td>\n",
              "      <td>0</td>\n",
              "    </tr>\n",
              "    <tr>\n",
              "      <th>...</th>\n",
              "      <td>...</td>\n",
              "      <td>...</td>\n",
              "      <td>...</td>\n",
              "      <td>...</td>\n",
              "      <td>...</td>\n",
              "      <td>...</td>\n",
              "      <td>...</td>\n",
              "      <td>...</td>\n",
              "      <td>...</td>\n",
              "      <td>...</td>\n",
              "      <td>...</td>\n",
              "      <td>...</td>\n",
              "      <td>...</td>\n",
              "    </tr>\n",
              "    <tr>\n",
              "      <th>886</th>\n",
              "      <td>887</td>\n",
              "      <td>0</td>\n",
              "      <td>2</td>\n",
              "      <td>Montvila, Rev. Juozas</td>\n",
              "      <td>male</td>\n",
              "      <td>27.0</td>\n",
              "      <td>0</td>\n",
              "      <td>0</td>\n",
              "      <td>211536</td>\n",
              "      <td>13.0000</td>\n",
              "      <td>NaN</td>\n",
              "      <td>S</td>\n",
              "      <td>0</td>\n",
              "    </tr>\n",
              "    <tr>\n",
              "      <th>887</th>\n",
              "      <td>888</td>\n",
              "      <td>1</td>\n",
              "      <td>1</td>\n",
              "      <td>Graham, Miss. Margaret Edith</td>\n",
              "      <td>female</td>\n",
              "      <td>19.0</td>\n",
              "      <td>0</td>\n",
              "      <td>0</td>\n",
              "      <td>112053</td>\n",
              "      <td>30.0000</td>\n",
              "      <td>B42</td>\n",
              "      <td>S</td>\n",
              "      <td>1</td>\n",
              "    </tr>\n",
              "    <tr>\n",
              "      <th>888</th>\n",
              "      <td>889</td>\n",
              "      <td>0</td>\n",
              "      <td>3</td>\n",
              "      <td>Johnston, Miss. Catherine Helen \"Carrie\"</td>\n",
              "      <td>female</td>\n",
              "      <td>NaN</td>\n",
              "      <td>1</td>\n",
              "      <td>2</td>\n",
              "      <td>W./C. 6607</td>\n",
              "      <td>23.4500</td>\n",
              "      <td>NaN</td>\n",
              "      <td>S</td>\n",
              "      <td>1</td>\n",
              "    </tr>\n",
              "    <tr>\n",
              "      <th>889</th>\n",
              "      <td>890</td>\n",
              "      <td>1</td>\n",
              "      <td>1</td>\n",
              "      <td>Behr, Mr. Karl Howell</td>\n",
              "      <td>male</td>\n",
              "      <td>26.0</td>\n",
              "      <td>0</td>\n",
              "      <td>0</td>\n",
              "      <td>111369</td>\n",
              "      <td>30.0000</td>\n",
              "      <td>C148</td>\n",
              "      <td>C</td>\n",
              "      <td>0</td>\n",
              "    </tr>\n",
              "    <tr>\n",
              "      <th>890</th>\n",
              "      <td>891</td>\n",
              "      <td>0</td>\n",
              "      <td>3</td>\n",
              "      <td>Dooley, Mr. Patrick</td>\n",
              "      <td>male</td>\n",
              "      <td>32.0</td>\n",
              "      <td>0</td>\n",
              "      <td>0</td>\n",
              "      <td>370376</td>\n",
              "      <td>7.7500</td>\n",
              "      <td>NaN</td>\n",
              "      <td>Q</td>\n",
              "      <td>0</td>\n",
              "    </tr>\n",
              "  </tbody>\n",
              "</table>\n",
              "<p>891 rows × 13 columns</p>\n",
              "</div>"
            ],
            "text/plain": [
              "     PassengerId  Survived  Pclass  ... Cabin Embarked  Sex_Category\n",
              "0              1         0       3  ...   NaN        S             0\n",
              "1              2         1       1  ...   C85        C             1\n",
              "2              3         1       3  ...   NaN        S             1\n",
              "3              4         1       1  ...  C123        S             1\n",
              "4              5         0       3  ...   NaN        S             0\n",
              "..           ...       ...     ...  ...   ...      ...           ...\n",
              "886          887         0       2  ...   NaN        S             0\n",
              "887          888         1       1  ...   B42        S             1\n",
              "888          889         0       3  ...   NaN        S             1\n",
              "889          890         1       1  ...  C148        C             0\n",
              "890          891         0       3  ...   NaN        Q             0\n",
              "\n",
              "[891 rows x 13 columns]"
            ]
          },
          "metadata": {
            "tags": []
          },
          "execution_count": 20
        }
      ]
    },
    {
      "cell_type": "markdown",
      "metadata": {
        "id": "4L-V8lV_4EO5"
      },
      "source": [
        "## Q3. Consider the \"Age\" and the \"Fare\" columns. These are known as Numerical features. Sometimes it is a good idea to scale these features(bring all the numerical features to one scale maybe between {0,1} or between {-1,1} so that the weights are not biased across the features\n",
        "\n",
        "- Bring these two features to a common scale\n",
        "- There are many techniques to do this and scikit-learn provides many built-in libraries. Try to explore them and see how you can apply them. You would need to import the appropriate libraries\n",
        "- You can use anyone. Without using scikit-learn, the simplest scaler that you can implement manually is to make the mean 0 and standard deviation as 1\n",
        "- In order to do this manual implementation all you need to do is take each value of \"Age\" and \"Fare\", subtract the mean(mean of full column) from each value and then divide that result by the standard devaition(standard deviation of full column)\n",
        "- If you decide to use the manual process then take the mean of all values except the NULL/Missing values as otherwise you may get an error"
      ]
    },
    {
      "cell_type": "code",
      "metadata": {
        "id": "M0DTidbd1w8o",
        "colab": {
          "base_uri": "https://localhost:8080/",
          "height": 938
        },
        "outputId": "58c58313-c8af-469d-e226-e2765b282021"
      },
      "source": [
        "# Write your code below the comments in this cell\n",
        "# Important\n",
        "# Finally your dataframe should have two additional columns called \"Age_Normalized\" and \"Fare_Normalized\"\n",
        "# Do not remove the existing \"Age\" or \"Fare\" column, instead create new columns based on these existing columns\n",
        "# Refer to the previous notebooks for reference and also Q2 to understand how to add new columns to an existing dataframe\n",
        "# Use the apply and lambda function to perform the calculations\n",
        "# If you choose to use the scikit-learn libraries then make sure to import them first at the very top cell\n",
        "\n",
        "####Code Comes Here###\n",
        "missing_ages = df['Age'].isnull()\n",
        "# determine mean age based on Sex\n",
        "mean_ages = df.groupby('Sex')['Age'].mean()\n",
        "\n",
        "def remove_na_ages(row):\n",
        "   \n",
        "    if pd.isnull(row['Age']):\n",
        "        return mean_ages[row['Sex']]\n",
        "    else:\n",
        "        return row['Age']\n",
        "\n",
        "df['Age'] = df.apply(remove_na_ages, axis=1)\n",
        "\n",
        "df[\"Age_Normalized\"] = df['Age'].apply(lambda x: (x-df['Age'].mean())/df['Age'].std())\n",
        "\n",
        "df[\"Fare_Normalized\"] = df['Fare'].apply(lambda y: (y-df['Fare'].mean())/df['Fare'].std())\n",
        "\n",
        "df\n",
        "###Code Comes Here###"
      ],
      "execution_count": null,
      "outputs": [
        {
          "output_type": "execute_result",
          "data": {
            "text/html": [
              "<div>\n",
              "<style scoped>\n",
              "    .dataframe tbody tr th:only-of-type {\n",
              "        vertical-align: middle;\n",
              "    }\n",
              "\n",
              "    .dataframe tbody tr th {\n",
              "        vertical-align: top;\n",
              "    }\n",
              "\n",
              "    .dataframe thead th {\n",
              "        text-align: right;\n",
              "    }\n",
              "</style>\n",
              "<table border=\"1\" class=\"dataframe\">\n",
              "  <thead>\n",
              "    <tr style=\"text-align: right;\">\n",
              "      <th></th>\n",
              "      <th>PassengerId</th>\n",
              "      <th>Survived</th>\n",
              "      <th>Pclass</th>\n",
              "      <th>Name</th>\n",
              "      <th>Sex</th>\n",
              "      <th>Age</th>\n",
              "      <th>SibSp</th>\n",
              "      <th>Parch</th>\n",
              "      <th>Ticket</th>\n",
              "      <th>Fare</th>\n",
              "      <th>Cabin</th>\n",
              "      <th>Embarked</th>\n",
              "      <th>Age_Normalized</th>\n",
              "      <th>Fare_Normalized</th>\n",
              "    </tr>\n",
              "  </thead>\n",
              "  <tbody>\n",
              "    <tr>\n",
              "      <th>0</th>\n",
              "      <td>1</td>\n",
              "      <td>0</td>\n",
              "      <td>3</td>\n",
              "      <td>Braund, Mr. Owen Harris</td>\n",
              "      <td>male</td>\n",
              "      <td>22.00</td>\n",
              "      <td>1</td>\n",
              "      <td>0</td>\n",
              "      <td>A/5 21171</td>\n",
              "      <td>7.2500</td>\n",
              "      <td>NaN</td>\n",
              "      <td>S</td>\n",
              "      <td>-0.551057</td>\n",
              "      <td>-0.502163</td>\n",
              "    </tr>\n",
              "    <tr>\n",
              "      <th>1</th>\n",
              "      <td>2</td>\n",
              "      <td>1</td>\n",
              "      <td>1</td>\n",
              "      <td>Cumings, Mrs. John Bradley (Florence Briggs Th...</td>\n",
              "      <td>female</td>\n",
              "      <td>38.00</td>\n",
              "      <td>1</td>\n",
              "      <td>0</td>\n",
              "      <td>PC 17599</td>\n",
              "      <td>71.2833</td>\n",
              "      <td>C85</td>\n",
              "      <td>C</td>\n",
              "      <td>0.653662</td>\n",
              "      <td>0.786404</td>\n",
              "    </tr>\n",
              "    <tr>\n",
              "      <th>2</th>\n",
              "      <td>3</td>\n",
              "      <td>1</td>\n",
              "      <td>3</td>\n",
              "      <td>Heikkinen, Miss. Laina</td>\n",
              "      <td>female</td>\n",
              "      <td>26.00</td>\n",
              "      <td>0</td>\n",
              "      <td>0</td>\n",
              "      <td>STON/O2. 3101282</td>\n",
              "      <td>7.9250</td>\n",
              "      <td>NaN</td>\n",
              "      <td>S</td>\n",
              "      <td>-0.249877</td>\n",
              "      <td>-0.488580</td>\n",
              "    </tr>\n",
              "    <tr>\n",
              "      <th>3</th>\n",
              "      <td>4</td>\n",
              "      <td>1</td>\n",
              "      <td>1</td>\n",
              "      <td>Futrelle, Mrs. Jacques Heath (Lily May Peel)</td>\n",
              "      <td>female</td>\n",
              "      <td>35.00</td>\n",
              "      <td>1</td>\n",
              "      <td>0</td>\n",
              "      <td>113803</td>\n",
              "      <td>53.1000</td>\n",
              "      <td>C123</td>\n",
              "      <td>S</td>\n",
              "      <td>0.427778</td>\n",
              "      <td>0.420494</td>\n",
              "    </tr>\n",
              "    <tr>\n",
              "      <th>4</th>\n",
              "      <td>5</td>\n",
              "      <td>0</td>\n",
              "      <td>3</td>\n",
              "      <td>Allen, Mr. William Henry</td>\n",
              "      <td>male</td>\n",
              "      <td>35.00</td>\n",
              "      <td>0</td>\n",
              "      <td>0</td>\n",
              "      <td>373450</td>\n",
              "      <td>8.0500</td>\n",
              "      <td>NaN</td>\n",
              "      <td>S</td>\n",
              "      <td>0.427778</td>\n",
              "      <td>-0.486064</td>\n",
              "    </tr>\n",
              "    <tr>\n",
              "      <th>...</th>\n",
              "      <td>...</td>\n",
              "      <td>...</td>\n",
              "      <td>...</td>\n",
              "      <td>...</td>\n",
              "      <td>...</td>\n",
              "      <td>...</td>\n",
              "      <td>...</td>\n",
              "      <td>...</td>\n",
              "      <td>...</td>\n",
              "      <td>...</td>\n",
              "      <td>...</td>\n",
              "      <td>...</td>\n",
              "      <td>...</td>\n",
              "      <td>...</td>\n",
              "    </tr>\n",
              "    <tr>\n",
              "      <th>886</th>\n",
              "      <td>887</td>\n",
              "      <td>0</td>\n",
              "      <td>2</td>\n",
              "      <td>Montvila, Rev. Juozas</td>\n",
              "      <td>male</td>\n",
              "      <td>27.00</td>\n",
              "      <td>0</td>\n",
              "      <td>0</td>\n",
              "      <td>211536</td>\n",
              "      <td>13.0000</td>\n",
              "      <td>NaN</td>\n",
              "      <td>S</td>\n",
              "      <td>-0.174582</td>\n",
              "      <td>-0.386454</td>\n",
              "    </tr>\n",
              "    <tr>\n",
              "      <th>887</th>\n",
              "      <td>888</td>\n",
              "      <td>1</td>\n",
              "      <td>1</td>\n",
              "      <td>Graham, Miss. Margaret Edith</td>\n",
              "      <td>female</td>\n",
              "      <td>19.00</td>\n",
              "      <td>0</td>\n",
              "      <td>0</td>\n",
              "      <td>112053</td>\n",
              "      <td>30.0000</td>\n",
              "      <td>B42</td>\n",
              "      <td>S</td>\n",
              "      <td>-0.776942</td>\n",
              "      <td>-0.044356</td>\n",
              "    </tr>\n",
              "    <tr>\n",
              "      <th>888</th>\n",
              "      <td>889</td>\n",
              "      <td>0</td>\n",
              "      <td>3</td>\n",
              "      <td>Johnston, Miss. Catherine Helen \"Carrie\"</td>\n",
              "      <td>female</td>\n",
              "      <td>21.75</td>\n",
              "      <td>1</td>\n",
              "      <td>2</td>\n",
              "      <td>W./C. 6607</td>\n",
              "      <td>23.4500</td>\n",
              "      <td>NaN</td>\n",
              "      <td>S</td>\n",
              "      <td>-0.569881</td>\n",
              "      <td>-0.176164</td>\n",
              "    </tr>\n",
              "    <tr>\n",
              "      <th>889</th>\n",
              "      <td>890</td>\n",
              "      <td>1</td>\n",
              "      <td>1</td>\n",
              "      <td>Behr, Mr. Karl Howell</td>\n",
              "      <td>male</td>\n",
              "      <td>26.00</td>\n",
              "      <td>0</td>\n",
              "      <td>0</td>\n",
              "      <td>111369</td>\n",
              "      <td>30.0000</td>\n",
              "      <td>C148</td>\n",
              "      <td>C</td>\n",
              "      <td>-0.249877</td>\n",
              "      <td>-0.044356</td>\n",
              "    </tr>\n",
              "    <tr>\n",
              "      <th>890</th>\n",
              "      <td>891</td>\n",
              "      <td>0</td>\n",
              "      <td>3</td>\n",
              "      <td>Dooley, Mr. Patrick</td>\n",
              "      <td>male</td>\n",
              "      <td>32.00</td>\n",
              "      <td>0</td>\n",
              "      <td>0</td>\n",
              "      <td>370376</td>\n",
              "      <td>7.7500</td>\n",
              "      <td>NaN</td>\n",
              "      <td>Q</td>\n",
              "      <td>0.201893</td>\n",
              "      <td>-0.492101</td>\n",
              "    </tr>\n",
              "  </tbody>\n",
              "</table>\n",
              "<p>891 rows × 14 columns</p>\n",
              "</div>"
            ],
            "text/plain": [
              "     PassengerId  Survived  Pclass  ... Embarked Age_Normalized  Fare_Normalized\n",
              "0              1         0       3  ...        S      -0.551057        -0.502163\n",
              "1              2         1       1  ...        C       0.653662         0.786404\n",
              "2              3         1       3  ...        S      -0.249877        -0.488580\n",
              "3              4         1       1  ...        S       0.427778         0.420494\n",
              "4              5         0       3  ...        S       0.427778        -0.486064\n",
              "..           ...       ...     ...  ...      ...            ...              ...\n",
              "886          887         0       2  ...        S      -0.174582        -0.386454\n",
              "887          888         1       1  ...        S      -0.776942        -0.044356\n",
              "888          889         0       3  ...        S      -0.569881        -0.176164\n",
              "889          890         1       1  ...        C      -0.249877        -0.044356\n",
              "890          891         0       3  ...        Q       0.201893        -0.492101\n",
              "\n",
              "[891 rows x 14 columns]"
            ]
          },
          "metadata": {
            "tags": []
          },
          "execution_count": 120
        }
      ]
    },
    {
      "cell_type": "markdown",
      "metadata": {
        "id": "sNUtClA27s6G"
      },
      "source": [
        "## Q4. Implement the ****Logistic**** function in Python based on the formula provided in the slides. All you need is provided in the numpy module or math module. There is a mistake, the place where I mention \"Logit\" function in the slides it is actually called \"Logistic\" function and not Logit function"
      ]
    },
    {
      "cell_type": "code",
      "metadata": {
        "id": "UgXjuJDd597r",
        "colab": {
          "base_uri": "https://localhost:8080/"
        },
        "outputId": "5223c32a-0f1e-425f-adbe-af7bc7ab4332"
      },
      "source": [
        "# Write your code below the comments in this cell\n",
        "# Important\n",
        "# Define a function and name it \"logistic_fn\"\n",
        "# Return the final result of the logistic function\n",
        "# The equation of the logistic function is present in the slides\n",
        "####Code Comes Here###\n",
        "def logistic_fn(x):\n",
        "  final_result = 1/(1+np.exp(-x))\n",
        "  return final_result\n",
        "logistic_fn(1)\n",
        "###Code Comes Here###\n",
        "\n",
        "#Verification\n",
        "# logistic_fn(1) --> 0.7310585786300049"
      ],
      "execution_count": null,
      "outputs": [
        {
          "output_type": "execute_result",
          "data": {
            "text/plain": [
              "0.7310585786300049"
            ]
          },
          "metadata": {
            "tags": []
          },
          "execution_count": 111
        }
      ]
    },
    {
      "cell_type": "markdown",
      "metadata": {
        "id": "DGxKCzty93lN"
      },
      "source": [
        "## Q5. Using the above newly generated features, \"Age_Normalized\", \"Fare_Normalized\", \"Sex_Category\" and ****any other feature of your choice****. Implement the Logistic Regression Function just as was described in the last class notebook\n",
        "\n",
        "- Import the Logistic Regression Function from scikit-learn\n",
        "- Select the appropriate features first from your dataframe\n",
        "- Create appropriate variables called x_train, x_test, y_train, y_test using the splitting function showed before. Split the Training dataset itself into two parts: Training and Testing(also called Validation)\n",
        "- Use all the features that you created now and REMEMBER, an ML model only accepts Numerical features. Now you will understand the importance of converting categorical data to numbers\n",
        "- Then train/fit() your training data to the Logistic Regression Model and then test/predict() it on your test dataset\n",
        "- ****The problem here is \"Titanic Survival Prediction\". From this name think about what is the output/label for this classification task. That single column will be your y_train/y_test. It was also accounced in class as well****\n",
        "\n",
        "- Keep the \"random_state\" paramenter inside the Logistic Regression function as any number of your choice and and report that number when submitting the assignment so that I can recreate your results. That number can be any integer\n",
        "\n",
        "- Print out the classification_report as shown during the class"
      ]
    },
    {
      "cell_type": "code",
      "metadata": {
        "id": "rSD-0cOD8eIM",
        "colab": {
          "base_uri": "https://localhost:8080/",
          "height": 643
        },
        "outputId": "a3d2a481-f963-4d93-c17d-8d492dad3d5c"
      },
      "source": [
        "import \n",
        "df_train = pd.read_csv(\"sample_data/train.csv\")\n",
        "df_train.dropna(inplace=True)\n",
        "x_train = np.array(df_train['x'])\n",
        "y_train = np.array(df_train['y'])\n",
        "plt.figure(figsize=(15,10))\n",
        "plt.scatter(x_train[:50],y_train[:50])\n",
        "plt.xlabel(\"X\")\n",
        "plt.ylabel(\"Y\")\n"
      ],
      "execution_count": null,
      "outputs": [
        {
          "output_type": "execute_result",
          "data": {
            "text/plain": [
              "Text(0, 0.5, 'Y')"
            ]
          },
          "metadata": {
            "tags": []
          },
          "execution_count": 123
        },
        {
          "output_type": "display_data",
          "data": {
            "image/png": "[encoded data removed]",
            "text/plain": [
              "<Figure size 1080x720 with 1 Axes>"
            ]
          },
          "metadata": {
            "tags": [],
            "needs_background": "light"
          }
        }
      ]
    },
    {
      "cell_type": "code",
      "metadata": {
        "colab": {
          "base_uri": "https://localhost:8080/",
          "height": 589
        },
        "id": "Y-NfzGH4wUrY",
        "outputId": "1a39857a-7137-4bed-eb91-9655996544ff"
      },
      "source": [
        "reg = LinearRegression()\n",
        "reg.fit(x_train.reshape(-1,1),y_train.reshape(-1,1))\n",
        "\n",
        "df_test = pd.read_csv(\"sample_data/test.csv\")\n",
        "x_test = np.array(df_test['x'])\n",
        "y_test = np.array(df_test['y'])\n",
        "model_predictions  =reg.predict(x_test.reshape(-1,1))\n",
        "\n",
        "plt.figure(figsize=(15,10))\n",
        "plt.scatter(x_test,y_test)\n",
        "plt.plot(x_test,model_predictions,color='r')\n",
        "plt.xlabel(\"X\")\n",
        "plt.ylabel(\"Y\")\n"
      ],
      "execution_count": null,
      "outputs": [
        {
          "output_type": "execute_result",
          "data": {
            "text/plain": [
              "Text(0, 0.5, 'Y')"
            ]
          },
          "metadata": {
            "tags": []
          },
          "execution_count": 124
        },
        {
          "output_type": "display_data",
          "data": {
            "image/png": "[encoded data removed]",
            "text/plain": [
              "<Figure size 1080x720 with 1 Axes>"
            ]
          },
          "metadata": {
            "tags": [],
            "needs_background": "light"
          }
        }
      ]
    },
    {
      "cell_type": "code",
      "metadata": {
        "id": "J5gN46Wq1ivk"
      },
      "source": [
        "x_train1, x_test1, y_train1, y_test1 = train_test_split(df.loc[:,'Pclass':],df.Survived,\\test_size=0.2)\n",
        "log_reg = LogisticRegression()\n",
        "log_reg.fit(x_train1,y_train1)\n",
        "suvival_predictions = log_reg.predict(x_test1)\n",
        "plt.figure(figsize=(15,10))\n",
        "sb.scatterplot(data = x_test1, x = 'Age',y = 'Survived',hue=y_test1['Age_Normalized'])\n",
        "#random_state\n",
        "#classification_report"
      ],
      "execution_count": null,
      "outputs": []
    },
    {
      "cell_type": "code",
      "metadata": {
        "id": "7J5LZFOzuZn9"
      },
      "source": [
        "plt.figure(figsize=(15,10))\n",
        "sb.scatterplot(data = x_test1, x = 'Age',y = 'Survived',hue=survival_predictions)"
      ],
      "execution_count": null,
      "outputs": []
    }
  ]
}