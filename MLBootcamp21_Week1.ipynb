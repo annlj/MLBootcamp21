{
  "nbformat": 4,
  "nbformat_minor": 0,
  "metadata": {
    "colab": {
      "name": "MLBootcamp21_Week1_Assignment.ipynb",
      "provenance": [],
      "collapsed_sections": [],
      "include_colab_link": true
    },
    "kernelspec": {
      "display_name": "Python 3",
      "language": "python",
      "name": "python3"
    },
    "language_info": {
      "codemirror_mode": {
        "name": "ipython",
        "version": 3
      },
      "file_extension": ".py",
      "mimetype": "text/x-python",
      "name": "python",
      "nbconvert_exporter": "python",
      "pygments_lexer": "ipython3",
      "version": "3.7.4"
    }
  },
  "cells": [
    {
      "cell_type": "markdown",
      "metadata": {
        "id": "view-in-github",
        "colab_type": "text"
      },
      "source": [
        "<a href=\"https://colab.research.google.com/github/annlj/MLBootcamp21_Week1_Assignment/blob/main/MLBootcamp21_Week1_Assignment.ipynb\" target=\"_parent\"><img src=\"https://colab.research.google.com/assets/colab-badge.svg\" alt=\"Open In Colab\"/></a>"
      ]
    },
    {
      "cell_type": "markdown",
      "metadata": {
        "id": "K8fheoknnQok"
      },
      "source": [
        "# ML Bootcamp 2021 - Week 1: Assignment\n",
        "\n",
        "- Please Read the Instructions very very carefully.\n",
        "- Name the variables exactly as is mentioned in the comments\n",
        "- Failure to do so would result in the grader marking the values wrongly\n",
        "- If the comment asks you to name the variable 'a' then name it 'a' and not 'A'\n",
        "- ****Please do not remove any missing values from the dataset for the following calculations****"
      ]
    },
    {
      "cell_type": "markdown",
      "metadata": {
        "id": "_kFWo_XYtPWQ"
      },
      "source": [
        "## Q1. Create a list of integers starting from 1 to 100,000 where each number is squared."
      ]
    },
    {
      "cell_type": "code",
      "metadata": {
        "id": "8Y4YHeD-tbQ2"
      },
      "source": [
        "# Write your code below the comments in this cell\n",
        "# Important\n",
        "# Save you list in a variable called 'squared_integers'\n",
        "# Example: squared_integers = [1, 4, 9, 16, 25, 36,....., 10000000000]\n",
        "\n",
        "squared_integers = list(i**2 for i in range(1,100001))\n",
        "# squared_integers [99999]"
      ],
      "execution_count": 127,
      "outputs": []
    },
    {
      "cell_type": "markdown",
      "metadata": {
        "id": "fBUIIBpct1K2"
      },
      "source": [
        "## Q2. Create a function to print the maximum of two given values"
      ]
    },
    {
      "cell_type": "code",
      "metadata": {
        "id": "bWbckW9Bt-k-",
        "colab": {
          "base_uri": "https://localhost:8080/"
        },
        "outputId": "86fb0221-99f2-4d23-940b-6cf71bdee0ec"
      },
      "source": [
        "# Write your code below the comments in this cell\n",
        "# Important\n",
        "# The name of the function should be max_two_numbers\n",
        "# The function SHOULD ONLY return EXACTLY 1 value which is the maximum of the two numbers\n",
        "# You only need to define the function, Do Not Call the function\n",
        "\n",
        "# Input two float numbers\n",
        "a,b = float(input(\"Enter first number:\")),float(input(\"Enter second number:\"))\n",
        "\n",
        "# Function to find the larger number\n",
        "def max_two_numbers (x,y):\n",
        "# Return the maximum number from the inputs\n",
        "  return (max(x,y))\n",
        "\n",
        "# print(\"The larger number is: \", max_two_numbers (a,b))"
      ],
      "execution_count": 126,
      "outputs": [
        {
          "output_type": "stream",
          "text": [
            "Enter first number:3.123\n",
            "Enter second number:3.1229\n"
          ],
          "name": "stdout"
        }
      ]
    },
    {
      "cell_type": "markdown",
      "metadata": {
        "id": "xL361QXRiyNd"
      },
      "source": [
        "## Q3. How many columns and rows are there in the test dataset?"
      ]
    },
    {
      "cell_type": "code",
      "metadata": {
        "id": "QPrapo99ijPi",
        "colab": {
          "base_uri": "https://localhost:8080/"
        },
        "outputId": "44755a6f-b020-40fe-d8c8-98cf82553ffc"
      },
      "source": [
        "# Write your code below the comments in this cell\n",
        "# Important\n",
        "# Save your row value in a variable called 'row'\n",
        "# Save your columns value in a variable called 'col'\n",
        "\n",
        "import pandas as pd\n",
        "\n",
        "# Reading in data from the csv file\n",
        "df = pd.read_csv(\"sample_data/test.csv\")\n",
        "\n",
        "# The size of the dataset\n",
        "\n",
        "row = df.shape[0]\n",
        "col = df.shape[1]\n",
        "row,col"
      ],
      "execution_count": 9,
      "outputs": [
        {
          "output_type": "execute_result",
          "data": {
            "text/plain": [
              "(418, 11)"
            ]
          },
          "metadata": {
            "tags": []
          },
          "execution_count": 9
        }
      ]
    },
    {
      "cell_type": "markdown",
      "metadata": {
        "id": "_yYLUBzdlIub"
      },
      "source": [
        "## Q4. What is the youngest and oldest Age recorded on the ship (Train dataset)?"
      ]
    },
    {
      "cell_type": "code",
      "metadata": {
        "id": "_hInu0U-lGnS",
        "colab": {
          "base_uri": "https://localhost:8080/"
        },
        "outputId": "1d3d5c94-fb48-44da-fde0-5ff17d831c03"
      },
      "source": [
        "# Write your code below the comments in this cell\n",
        "# Important\n",
        "# Save your youngest Age value in a variable called 'age_youngest'\n",
        "# Save your oldest Age value in a variable called 'age_oldest'\n",
        "\n",
        "# Reading in data from the csv file\n",
        "df = pd.read_csv(\"sample_data/train.csv\")\n",
        "\n",
        "# The youngest and oldest Age recorded on the ship\n",
        "age_youngest = df['Age'].min()\n",
        "age_oldest = df['Age'].max()\n",
        "\n",
        "print(f\"The youngest passenger age is {age_youngest}, the youngest passenger age is {age_oldest}.\")\n"
      ],
      "execution_count": 10,
      "outputs": [
        {
          "output_type": "stream",
          "text": [
            "The youngest passenger age is 0.42, the youngest passenger age is 80.0.\n"
          ],
          "name": "stdout"
        }
      ]
    },
    {
      "cell_type": "markdown",
      "metadata": {
        "id": "pBDlQErdlrA2"
      },
      "source": [
        "## Q5. What are the proportions of male and female passengers (Train dataset)?"
      ]
    },
    {
      "cell_type": "code",
      "metadata": {
        "id": "99j8gKn9lmj6",
        "colab": {
          "base_uri": "https://localhost:8080/"
        },
        "outputId": "069226aa-3a62-4f95-93a0-921cde5f706c"
      },
      "source": [
        "# Write your code below the comments in this cell\n",
        "# Important\n",
        "# Save the integer number for female passengers in a variable called 'female_count'\n",
        "# Save the integer number for male passengers in a variable called 'male_count'\n",
        "\n",
        "# Count of male and female passengers\n",
        "df1 = df['Sex'].value_counts()\n",
        "counts = list(df['Sex'].value_counts())\n",
        "total = int(df['Sex'].count())\n",
        "# Save counts to the variables\n",
        "male_count , female_count = counts[0], counts[1]\n",
        "\n",
        "# Proportions of male and female passengers\n",
        "proportions = []\n",
        "\n",
        "for number in counts:\n",
        "  proportion = number/total*100\n",
        "  proportions.append(proportion)\n",
        "\n",
        "df1\n",
        "df1['count'] = counts\n",
        "df1['Proportion'] = proportions\n",
        "df1"
      ],
      "execution_count": 140,
      "outputs": [
        {
          "output_type": "execute_result",
          "data": {
            "text/plain": [
              "male                                             577\n",
              "female                                           314\n",
              "count                                     [577, 314]\n",
              "Proportion    [64.75869809203144, 35.24130190796858]\n",
              "Name: Sex, dtype: object"
            ]
          },
          "metadata": {
            "tags": []
          },
          "execution_count": 140
        }
      ]
    },
    {
      "cell_type": "markdown",
      "metadata": {
        "id": "VBC-D9JUmfgG"
      },
      "source": [
        "## Q6. What is the average ticket price per Passenger Ticket Class(Train dataset) ?"
      ]
    },
    {
      "cell_type": "code",
      "metadata": {
        "id": "yVw9ygrJmd2L",
        "colab": {
          "base_uri": "https://localhost:8080/",
          "height": 143
        },
        "outputId": "c9b596b8-37a6-40ac-f489-a69f95e0ff09"
      },
      "source": [
        "# Write your code below the comments in this cell\n",
        "# Important\n",
        "# Save the value for each ticket class as a variable called \"p_classnumber_avg_fare\" (Eg: p_1_avg_fare)\n",
        "# Once you get your final answers, use the function \"round(answer,2)\" exactly as is to round the answer to two decimal places.\n",
        "# Inside the round() function make sure to put the value with all its decimal places, then round() will properly round it down two 2 decimal places\n",
        "\n",
        "\n",
        "grouped_df = df.groupby('Pclass')['Fare'].mean().reset_index(name = 'average price')\n",
        "p_classnumber = grouped_df['Pclass']\n",
        "p_classnumber_avg_fare = []\n",
        "p_classnumber_avg_fare = grouped_df['average price']\n",
        "\n",
        "grouped_df['rounded price'] = round(p_classnumber_avg_fare,2)\n",
        "grouped_df\n"
      ],
      "execution_count": 155,
      "outputs": [
        {
          "output_type": "execute_result",
          "data": {
            "text/html": [
              "<div>\n",
              "<style scoped>\n",
              "    .dataframe tbody tr th:only-of-type {\n",
              "        vertical-align: middle;\n",
              "    }\n",
              "\n",
              "    .dataframe tbody tr th {\n",
              "        vertical-align: top;\n",
              "    }\n",
              "\n",
              "    .dataframe thead th {\n",
              "        text-align: right;\n",
              "    }\n",
              "</style>\n",
              "<table border=\"1\" class=\"dataframe\">\n",
              "  <thead>\n",
              "    <tr style=\"text-align: right;\">\n",
              "      <th></th>\n",
              "      <th>Pclass</th>\n",
              "      <th>average price</th>\n",
              "      <th>rounded price</th>\n",
              "    </tr>\n",
              "  </thead>\n",
              "  <tbody>\n",
              "    <tr>\n",
              "      <th>0</th>\n",
              "      <td>1</td>\n",
              "      <td>84.154687</td>\n",
              "      <td>84.15</td>\n",
              "    </tr>\n",
              "    <tr>\n",
              "      <th>1</th>\n",
              "      <td>2</td>\n",
              "      <td>20.662183</td>\n",
              "      <td>20.66</td>\n",
              "    </tr>\n",
              "    <tr>\n",
              "      <th>2</th>\n",
              "      <td>3</td>\n",
              "      <td>13.675550</td>\n",
              "      <td>13.68</td>\n",
              "    </tr>\n",
              "  </tbody>\n",
              "</table>\n",
              "</div>"
            ],
            "text/plain": [
              "   Pclass  average price  rounded price\n",
              "0       1      84.154687          84.15\n",
              "1       2      20.662183          20.66\n",
              "2       3      13.675550          13.68"
            ]
          },
          "metadata": {
            "tags": []
          },
          "execution_count": 155
        }
      ]
    },
    {
      "cell_type": "markdown",
      "metadata": {
        "id": "lshoMAFpnPXH"
      },
      "source": [
        "## Q7. Explore the 'Names' feature and find out how many titles are present? A title stands for 'Mr', 'Miss', 'Dr' etc. appended before any person's name (Train dataset). \n",
        "- Hint: Check the \"Strings\" part of the tutorial notebook"
      ]
    },
    {
      "cell_type": "code",
      "metadata": {
        "id": "lNRO_sL-qFVU",
        "colab": {
          "base_uri": "https://localhost:8080/"
        },
        "outputId": "81a1573b-947d-453b-c0e1-9bd3cbee63ee"
      },
      "source": [
        "# Write your code below the comments in this cell\n",
        "# Important\n",
        "# Your output should be a dictionary called 'title_count'\n",
        "# Each key of the dictionary is the name of the title as is, Eg: Mr, Miss, Mrs, etc.\n",
        "# Value of each key is the number of times that that particular title has occurred\n",
        "# Example output\n",
        "# {'Mr':5,'Capt':20,'Miss':12 and so on}\n",
        "\n",
        "import re\n",
        "from collections import Counter\n",
        "count = []\n",
        "for i in df['Name'].apply(lambda x: re.findall(' ([A-Z][a-z]+)\\.', x)):\n",
        "  count.append(i[0])\n",
        "title_count = dict(Counter(count))\n",
        "print(title_count)\n",
        " "
      ],
      "execution_count": 99,
      "outputs": [
        {
          "output_type": "stream",
          "text": [
            "{'Mr': 517, 'Mrs': 125, 'Miss': 182, 'Master': 40, 'Don': 1, 'Rev': 6, 'Dr': 7, 'Mme': 1, 'Ms': 1, 'Major': 2, 'Lady': 1, 'Sir': 1, 'Mlle': 2, 'Col': 2, 'Capt': 1, 'Countess': 1, 'Jonkheer': 1}\n"
          ],
          "name": "stdout"
        }
      ]
    },
    {
      "cell_type": "code",
      "metadata": {
        "id": "ubo1eHChsw0Z"
      },
      "source": [
        ""
      ],
      "execution_count": null,
      "outputs": []
    }
  ]
}
